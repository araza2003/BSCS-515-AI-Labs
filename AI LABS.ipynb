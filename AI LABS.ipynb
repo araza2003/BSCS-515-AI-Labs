{
 "cells": [
  {
   "cell_type": "markdown",
   "id": "340eaa15-b96c-4b4d-9ddd-902c2a8a441d",
   "metadata": {},
   "source": [
    "                                                                    LAB 01                                                                              "
   ]
  },
  {
   "cell_type": "markdown",
   "id": "7d3f4258-4c5d-4acc-8fc8-2c61aa1928fe",
   "metadata": {},
   "source": [
    "Objective 01: Dir & Help Commands"
   ]
  },
  {
   "cell_type": "markdown",
   "id": "2bf1f30c-7863-44fa-812b-dc468abfeee7",
   "metadata": {},
   "source": [
    "Learn about the methods Python provides for strings. To see what methods Python provides for a datatype, use the dir and help commands. "
   ]
  },
  {
   "cell_type": "raw",
   "id": "9d02a218-b046-4695-8dbf-781a3e727412",
   "metadata": {},
   "source": [
    "PS C:\\Users\\Ahmed Raza\\OneDrive\\Desktop\\BSCS 515 AI USING PYTHON> python\n",
    "Python 3.12.1 (tags/v3.12.1:2305ca5, Dec  7 2023, 22:03:25) [MSC v.1937 64 bit (AMD64)] on win32\n",
    "Type \"help\", \"copyright\", \"credits\" or \"license\" for more information.\n",
    ">>> s = 'ahmed'\n",
    ">>> dir(s)\n",
    "['__add__', '__class__', '__contains__', '__delattr__', '__dir__', '__doc__', '__eq__', '__format__', '__ge__', '__getattribute__', \n",
    "'__getitem__', '__getnewargs__', '__getstate__', '__gt__', '__hash__', '__init__', '__init_subclass__', '__iter__', '__le__', '__len__', \n",
    "'__lt__', '__mod__', '__mul__', '__ne__', '__new__', '__reduce__', '__reduce_ex__', '__repr__', '__rmod__', '__rmul__', '__setattr__', \n",
    "'__sizeof__', '__str__', '__subclasshook__', 'capitalize', 'casefold', 'center', 'count', 'encode', 'endswith', 'expandtabs', 'find', \n",
    "'format', 'format_map', 'index', 'isalnum', 'isalpha', 'isascii', 'isdecimal', 'isdigit', 'isidentifier', 'islower', 'isnumeric', \n",
    "'isprintable', 'isspace', 'istitle', 'isupper', 'join', 'ljust', 'lower', 'lstrip', 'maketrans', 'partition', 'removeprefix', 'removesuffix', \n",
    "'replace', 'rfind', 'rindex', 'rjust', 'rpartition', 'rsplit', 'rstrip', 'split', 'splitlines', 'startswith', 'strip', 'swapcase', 'title', 'translate', 'upper', 'zfill']\n",
    ">>> help(s.isalnum)\n",
    "Help on built-in function isalnum:\n",
    "\n",
    "isalnum() method of builtins.str instance\n",
    "    Return True if the string is an alpha-numeric string, False otherwise.\n",
    "\n",
    "    A string is alpha-numeric if all characters in the string are alpha-numeric and\n",
    "    there is at least one character in the string.\n",
    "\n",
    ">>> s.isalnum()\n",
    "True\n",
    ">>>"
   ]
  },
  {
   "cell_type": "markdown",
   "id": "112485b7-9617-4edf-9f76-8876f37a3718",
   "metadata": {},
   "source": [
    "1. Try out some of the string functions listed in dir (ignore those with underscores '_' around the method name). "
   ]
  },
  {
   "cell_type": "code",
   "execution_count": null,
   "id": "e302f31c-0f57-4a7f-b393-d99755c412e7",
   "metadata": {},
   "outputs": [],
   "source": [
    "def check_string_properties(input_string):\n",
    "    \n",
    "    # Returns True if all the characters in the string are alphanumeric\n",
    "    print(\"isalnum:\", input_string.isalnum())\n",
    "\n",
    "    # Returns True if all the characters in the string are alphabets\n",
    "    print(\"isalpha:\", input_string.isalpha())\n",
    "\n",
    "    # Returns True if all the characters in the string are decimals\n",
    "    print(\"isdecimal:\", input_string.isdecimal())\n",
    "\n",
    "    # Returns True if all characters in the string are digits\n",
    "    print(\"isdigit:\", input_string.isdigit())\n",
    "\n",
    "    # Returns True if all the characters in the string are lower case\n",
    "    print(\"islower:\", input_string.islower())\n",
    "\n",
    "    # Returns True if all the characters in the string are whitespaces\n",
    "    print(\"isspace:\", input_string.isspace())\n",
    "\n",
    "    # Returns True if all the characters in the string are upper case    \n",
    "    print(\"isupper:\", input_string.isupper())\n",
    "\n",
    "    # Converts the string into lower case\n",
    "    print(\"lower:\", input_string.lower())\n",
    "\n",
    "    # Converts the string into upper case\n",
    "    print(\"upper:\", input_string.upper())\n",
    "\n",
    "    # Removes leading and trailing spaces in the string\n",
    "    print(\"strip:\", input_string.strip())\n",
    "    \n",
    "    # used to obtain a sub string from the given string\n",
    "    print(\"slicing:\", input_string[11:21])\n",
    "\n",
    "# Test input from user to check string properties\n",
    "user_input = input(\"Enter a string: \")"
   ]
  },
  {
   "cell_type": "raw",
   "id": "2d63ac17-c20b-4bab-a802-3a7653ace8b9",
   "metadata": {},
   "source": [
    "# OUTPUT\n",
    "Enter a string: ahmed raza 1234\n",
    "isalnum: False\n",
    "isalpha: False\n",
    "isdecimal: False\n",
    "isdigit: False\n",
    "islower: True\n",
    "isspace: False\n",
    "isupper: False\n",
    "lower: ahmed raza 1234\n",
    "upper: AHMED RAZA 1234\n",
    "strip: ahmed raza 1234\n",
    "slicing: 1234"
   ]
  },
  {
   "cell_type": "markdown",
   "id": "38cea53d-abef-4f1c-9b61-0171d485c617",
   "metadata": {},
   "source": [
    "Objective 02: Exercise Python input /output Basic operations"
   ]
  },
  {
   "cell_type": "markdown",
   "id": "aaa0f6a3-ecf9-4dd1-b4f6-fc9accb5ea1d",
   "metadata": {},
   "source": [
    "(i) Write a Python program to swap 4 variables values (input four values)."
   ]
  },
  {
   "cell_type": "code",
   "execution_count": null,
   "id": "6a9898ef-f1fb-482d-b553-3d375475f436",
   "metadata": {},
   "outputs": [],
   "source": [
    "def swap(a,b,c,d):\n",
    "    a,b,c,d = d,c,b,a # swaps equivalent values\n",
    "    print(\"Values after swap:\\n a=\",a,\"b=\",b,\"c=\",c,\"d=\",d)\n",
    "\n",
    "# main\n",
    "a=2\n",
    "b=56\n",
    "c=78\n",
    "d=9\n",
    "\n",
    "print(\"Values before swap:\\n a=\",a,\"b=\",b,\"c=\",c,\"d=\",d)\n",
    "swap(a,b,c,d) # function call"
   ]
  },
  {
   "cell_type": "raw",
   "id": "5db28b0d-7a79-474c-9bda-29de8185b28d",
   "metadata": {},
   "source": [
    "Values before swap:\n",
    " a= 2 b= 56 c= 78 d= 9\n",
    "Values after swap:\n",
    " a= 9 b= 78 c= 56 d= 2"
   ]
  },
  {
   "cell_type": "markdown",
   "id": "f0a87a43-c5f0-4d91-8f7b-aff7da1229bc",
   "metadata": {},
   "source": [
    "(ii) Write a Python program to convert temperatures to and from Celsius, \n",
    "\n",
    "Fahrenheit. \n",
    "\n",
    "Formula : c/5 = f-32/9 \n",
    "\n",
    "Expected Output : \n",
    "\n",
    "Enter temp in Celsius: 60°C \n",
    "\n",
    "Temperature in Fahrenheit is :140 "
   ]
  },
  {
   "cell_type": "code",
   "execution_count": null,
   "id": "056a5873-b66b-4dc4-83aa-4f8fd5cdef47",
   "metadata": {},
   "outputs": [],
   "source": [
    "user_input = input(\"Choose any one! \\n Enter 1 for C to F. \\n Enter 2 for F to C. \")   # menu\n",
    "\n",
    "if user_input == '1':        # compare with string 1\n",
    "   \n",
    "   temp_in_C = float(input(\"Enter temp in Celcius: \"))         # value must be input in float\n",
    "   to_F = 1.8*temp_in_C+32\n",
    "\n",
    "   print(\"Temperature in Fahrenheit is: \", to_F)\n",
    "\n",
    "elif user_input == '2':     # compare with string 2\n",
    "   \n",
    "   temp_in_F = float(input(\"Enter temp in Fahrenheit: \"))\n",
    "\n",
    "   to_C = (temp_in_F-32)/1.8\n",
    "   print(\"Temperature in Celcius is: \", to_C)\n",
    "\n",
    "else: \n",
    "   \n",
    "   print(\"Invalid input!\")"
   ]
  },
  {
   "cell_type": "raw",
   "id": "604d2bcb-1603-485f-990b-b5f8cf756c00",
   "metadata": {},
   "source": [
    "# OUTPUT 01\n",
    "\n",
    "Choose any one! \n",
    " Enter 1 for C to F.\n",
    " Enter 2 for F to C. 1\n",
    "Enter temp in Celcius: 60\n",
    "Temperature in Fahrenheit is:  140.0\n",
    "\n",
    "# OUTPUT 02\n",
    "        \n",
    "Choose any one! \n",
    " Enter 1 for C to F.\n",
    " Enter 2 for F to C. 2\n",
    "Enter temp in Fahrenheit: 140\n",
    "Temperature in Celcius is:  60.0"
   ]
  },
  {
   "cell_type": "markdown",
   "id": "1f88587b-0415-4107-94ee-5dae43a3f681",
   "metadata": {},
   "source": [
    "Objective 03: Exercise: Lists "
   ]
  },
  {
   "cell_type": "markdown",
   "id": "f8f9e7ca-ff9e-4f86-bf49-ca06e181c36c",
   "metadata": {},
   "source": [
    "(i)Play with some of the list functions. You can find the methods you can call on an object via the dir and get information about them \n",
    "via the help command: "
   ]
  },
  {
   "cell_type": "raw",
   "id": "68558b11-bc2a-4355-9439-54d952e797ea",
   "metadata": {},
   "source": [
    "PS C:\\Users\\Ahmed Raza\\OneDrive\\Desktop\\BSCS 515 AI USING PYTHON> python\n",
    "Python 3.12.1 (tags/v3.12.1:2305ca5, Dec  7 2023, 22:03:25) [MSC v.1937 64 bit (AMD64)] on win32\n",
    "Type \"help\", \"copyright\", \"credits\" or \"license\" for more information.\n",
    ">>> l = ['a','b','c']\n",
    ">>> dir(list)\n",
    "['__add__', '__class__', '__class_getitem__', '__contains__', '__delattr__', '__delitem__', '__dir__', '__doc__', '__eq__', '__format__', '__ge__', \n",
    "'__getattribute__', '__getitem__', '__getstate__', '__gt__', '__hash__', '__iadd__', '__imul__', '__init__', '__init_subclass__', '__iter__', '__le__', \n",
    "'__len__', '__lt__', '__mul__', '__ne__', '__new__', '__reduce__', '__reduce_ex__', '__repr__', '__reversed__', '__rmul__', '__setattr__', \n",
    "'__setitem__', '__sizeof__', '__str__', '__subclasshook__', 'append', 'clear', 'copy', 'count', 'extend', 'index', 'insert', 'pop', 'remove',\n",
    "'reverse', 'sort']\n",
    ">>> help(l.reverse)\n",
    "Help on built-in function reverse:\n",
    "\n",
    "reverse() method of builtins.list instance\n",
    "    Reverse *IN PLACE*.\n",
    "\n",
    ">>> l.reverse()\n",
    ">>> print(l)\n",
    "['c', 'b', 'a']\n",
    ">>>"
   ]
  },
  {
   "cell_type": "code",
   "execution_count": null,
   "id": "fe4c0702-3e74-4ea8-b490-2e38fa267ae4",
   "metadata": {},
   "outputs": [],
   "source": [
    "# Initializing a sample list\n",
    "my_list = [1, 3, 5, 7, 9]\n",
    "\n",
    "#print(dir(sample_list))\n",
    "#print(help(my_list.append)\n",
    "      \n",
    "# Using list functions\n",
    "\n",
    "# Index: Find the index of an element\n",
    "index_of_7 = my_list.index(7)\n",
    "print(f\"Index of 7: {index_of_7}\")      # the f in print function is used for formatted print\n",
    "\n",
    "# Append: Add an element to the end of the list\n",
    "my_list.append(11)\n",
    "print(f\"After appending 11: {my_list}\")\n",
    "\n",
    "# Extend: Add elements from another iterable to the end of the list\n",
    "my_list.extend([13, 15, 17])\n",
    "print(f\"After extending with [13, 15, 17]: {my_list}\")\n",
    "\n",
    "# Insert: Insert an element at a specific index\n",
    "my_list.insert(2, 4)\n",
    "print(f\"After inserting 4 at index 2: {my_list}\")\n",
    "\n",
    "# Pop: Remove and return the last element from the list\n",
    "popped_element = my_list.pop()\n",
    "print(f\"Popped element: {popped_element}, List after pop: {my_list}\")\n",
    "\n",
    "# Remove: Remove the first occurrence of a value\n",
    "my_list.remove(5)\n",
    "print(f\"After removing 5: {my_list}\")\n",
    "\n",
    "# Clear: Remove all elements from the list\n",
    "my_list.clear()\n",
    "print(f\"After clearing the list: {my_list}\")\n",
    "\n",
    "# Count: Count the number of occurrences of a value\n",
    "occurrences_of_3 = my_list.count(3)\n",
    "print(f\"Occurrences of 3: {occurrences_of_3}\")\n",
    "\n",
    "# Reverse: Reverse the order of elements in the list\n",
    "my_list = [1, 3, 5, 7, 9]\n",
    "my_list.reverse()\n",
    "print(f\"After reversing the list: {my_list}\")\n",
    "\n",
    "# Sort: Sort the elements of the list in ascending order\n",
    "my_list.sort()\n",
    "print(f\"After sorting in ascending order: {my_list}\")\n"
   ]
  },
  {
   "cell_type": "raw",
   "id": "dd6a06f8-2425-4402-b8ff-198729130b90",
   "metadata": {},
   "source": [
    "# OUTPUT\n",
    "\n",
    "Index of 7: 3\n",
    "After appending 11: [1, 3, 5, 7, 9, 11]\n",
    "After extending with [13, 15, 17]: [1, 3, 5, 7, 9, 11, 13, 15, 17]\n",
    "After inserting 4 at index 2: [1, 3, 4, 5, 7, 9, 11, 13, 15, 17]\n",
    "Popped element: 17, List after pop: [1, 3, 4, 5, 7, 9, 11, 13, 15]\n",
    "After removing 5: [1, 3, 4, 7, 9, 11, 13, 15]\n",
    "After clearing the list: []\n",
    "Occurrences of 3: 0\n",
    "After reversing the list: [9, 7, 5, 3, 1]\n",
    "After sorting in ascending order: [1, 3, 5, 7, 9]"
   ]
  },
  {
   "cell_type": "markdown",
   "id": "0adf4422-05af-440b-b8b2-d934f10635d7",
   "metadata": {},
   "source": [
    "(ii)Write a Python program to count the number of strings where the string length is 2 or more and the \n",
    "\n",
    "first and last character are same from a given list of strings. \n",
    "\n",
    "Sample List : ['abc', 'xyz', 'aba', '1221'] \n",
    "\n",
    "Expected Result : 2. "
   ]
  },
  {
   "cell_type": "code",
   "execution_count": null,
   "id": "7a9cfbd1-cc73-4b74-ad6e-1c310a32b684",
   "metadata": {},
   "outputs": [],
   "source": [
    "count = 0  # here count is local variable\n",
    "def compare_first_and_last(string):\n",
    "    global count   # declaring count as global variable\n",
    "    if len(string) > 2:     # check if length is greater than 2\n",
    "       if string[0] == string[-1]:   # to compare the first and last character\n",
    "          count = count + 1       # if yes increment count\n",
    "          return True\n",
    "       else:\n",
    "        return False\n",
    "    else:\n",
    "       return False\n",
    "    \n",
    "sample_list = ['abc','xyz','aba','1221']\n",
    "\n",
    "for i in sample_list:   # for loop which sends strings from list one by one to the function\n",
    "  compare_first_and_last(i)     # comparator function called\n",
    "\n",
    "print(count)"
   ]
  },
  {
   "cell_type": "raw",
   "id": "86efb5c4-9132-4c2b-a2bd-5d3710841e3f",
   "metadata": {},
   "source": [
    "# OUTPUT\n",
    "\n",
    "2"
   ]
  },
  {
   "cell_type": "markdown",
   "id": "aa3b6625-cd1d-4722-9ce3-b7308306c903",
   "metadata": {},
   "source": [
    "Objective 04: Exercise: Dictionaries"
   ]
  },
  {
   "cell_type": "markdown",
   "id": "0540b547-7d5e-4d7c-aba6-163eb398d9a3",
   "metadata": {},
   "source": [
    "(i)Use dir and help to learn about the functions you can call on dictionaries and implement it. "
   ]
  },
  {
   "cell_type": "code",
   "execution_count": null,
   "id": "0fdefd18-f7b4-4093-b1b5-c9d543c94a3d",
   "metadata": {},
   "outputs": [],
   "source": [
    "# Part (i)\n",
    "\n",
    "my_info = {'Name':'Ahmed Raza', 'Age':20,'City':'Karachi'}\n",
    "\n",
    "print(dir(my_info))\n",
    "print(help(my_info.keys))\n",
    "\n",
    "print(len(my_info))   # prints length of dictionary\n",
    "\n",
    "print(my_info.get('Name'))   # returns the value of a specified key\n",
    "\n",
    "print(my_info.items())  # returns a list containing a tuple for each key-value pair\n",
    "\n",
    "print(my_info.keys())   # returns a list containing dictionary keys\n",
    "\n",
    "print(my_info.values()) # returns a list of all the values in the dictionary\n",
    "\n",
    "my_new_info = {'Age':21,'City':'Lahore'}\n",
    "my_info.update(my_new_info)  # updates the dictionary with specified key value pairs\n",
    "print(my_info)      # if you want to print the updated info print it after updating\n",
    "\n",
    "print(my_info.clear())   # removes all elements from the dictionary"
   ]
  },
  {
   "cell_type": "raw",
   "id": "4059b9a0-001f-4d3a-9983-736169bf2cb0",
   "metadata": {},
   "source": [
    "# OUTPUT\n",
    "\n",
    "PS C:\\Users\\Ahmed Raza\\OneDrive\\Desktop\\BSCS 515 AI USING PYTHON> python -u \"c:\\Users\\Ahmed Raza\\OneDrive\\Desktop\\BSCS 515 AI USING PYTHON\\LAB 01 (TASKS)\\Dictionaries.py\"\n",
    "['__class__', '__class_getitem__', '__contains__', '__delattr__', '__delitem__', '__dir__', '__doc__', '__eq__', '__format__', '__ge__', \n",
    " '__getattribute__', '__getitem__', '__getstate__', '__gt__', '__hash__', '__init__', '__init_subclass__', '__ior__', '__iter__', '__le__',\n",
    " '__len__', '__lt__', '__ne__', '__new__', '__or__', '__reduce__', '__reduce_ex__', '__repr__', '__reversed__', '__ror__', '__setattr__', \n",
    " '__setitem__', '__sizeof__', '__str__', '__subclasshook__', 'clear', 'copy', 'fromkeys', 'get', 'items', 'keys', 'pop', 'popitem', 'setdefault', \n",
    " 'update', 'values']\n",
    "Help on built-in function keys:\n",
    "\n",
    "keys(...) method of builtins.dict instance\n",
    "    D.keys() -> a set-like object providing a view on D's keys\n",
    "\n",
    "None\n",
    "3\n",
    "Ahmed Raza\n",
    "dict_items([('Name', 'Ahmed Raza'), ('Age', 20), ('City', 'Karachi')])\n",
    "dict_keys(['Name', 'Age', 'City'])\n",
    "dict_values(['Ahmed Raza', 20, 'Karachi'])\n",
    "{'Name': 'Ahmed Raza', 'Age': 21, 'City': 'Lahore'}\n",
    "None"
   ]
  },
  {
   "cell_type": "markdown",
   "id": "7d6c925d-d8c7-405f-80ab-4c2d8d963bc7",
   "metadata": {},
   "source": [
    "(ii)Write a Python program to concatenate following dictionaries to create a new one. \n",
    "\n",
    "Sample Dictionary : \n",
    "\n",
    "dic1={1:10, 2:20} \n",
    "\n",
    "dic2={3:30, 4:40} \n",
    "\n",
    "dic3={5:50,6:60} \n",
    "\n",
    "Expected Result : {1: 10, 2: 20, 3: 30, 4: 40, 5: 50, 6: 60} "
   ]
  },
  {
   "cell_type": "raw",
   "id": "d2c41359-aa9d-4441-8e64-68a470cb0119",
   "metadata": {},
   "source": [
    "# OUTPUT \n",
    "\n",
    "{1: 10, 2: 20, 3: 30, 4: 40, 5: 50, 6: 60}\n",
    "{1: 10, 2: 20, 3: 30, 4: 40, 5: 50, 6: 60}"
   ]
  },
  {
   "cell_type": "markdown",
   "id": "a5264f87-001c-4903-9d99-a77965c23976",
   "metadata": {},
   "source": [
    "Objective 05: Exercise: List Comprehensions "
   ]
  },
  {
   "cell_type": "markdown",
   "id": "c3b16ccd-844a-4942-bcf2-c715d1c7a2ee",
   "metadata": {},
   "source": [
    "(i)Write a list comprehension which, from a list, generates a lowercased version of each string that has \n",
    "\n",
    "length greater than five. \n"
   ]
  },
  {
   "cell_type": "code",
   "execution_count": null,
   "id": "ba74e216-ab1d-4edc-9287-c8b968258b80",
   "metadata": {},
   "outputs": [],
   "source": [
    "# Syntax for List Comprehension : [ expression for item in iterable if condition ]\n",
    "\n",
    "# Part (i)\n",
    "\n",
    "my_friends = ['Zohaib','Abbas','Dinesh','Waleed']\n",
    "lowercased_strings = [my_friends.lower() for my_friends in my_friends if len(my_friends) > 5]\n",
    "print(lowercased_strings)\n"
   ]
  },
  {
   "cell_type": "raw",
   "id": "bd057e99-e833-4f21-8771-d61ec35ac1fe",
   "metadata": {},
   "source": [
    "# OUTPUT \n",
    "\n",
    "['zohaib', 'dinesh', 'waleed']"
   ]
  },
  {
   "cell_type": "markdown",
   "id": "75475bef-f652-4bb6-b4cc-679054f3c1ed",
   "metadata": {},
   "source": [
    "(ii)Write a Python program to print a specified list after removing the 0th, 4th and 5th elements \n",
    "\n",
    "Sample List : ['Red', 'Green', 'White', 'Black', 'Pink', 'Yellow',’Teapink’] \n",
    "\n",
    "Expected Output : ['Green', 'White', 'Black'] "
   ]
  },
  {
   "cell_type": "code",
   "execution_count": null,
   "id": "b3f45ef5-2b42-48b4-b099-36a6bd877701",
   "metadata": {},
   "outputs": [],
   "source": [
    "# Part (ii)\n",
    "\n",
    "Sample_List = ['Red', 'Green', 'White', 'Black', 'Pink', 'Yellow', 'Teapink']\n",
    "\n",
    "# not in : to check if value is present or not \n",
    "# range(len(Sample_List)) generates a sequence of numbers from 0 to len(Sample_List) - 1.\n",
    "\n",
    "updated_list = [Sample_List[index] for index in range(len(Sample_List)) if index not in [0, 4, 5] and index < 5]\n",
    "print(updated_list)"
   ]
  },
  {
   "cell_type": "raw",
   "id": "1b19b9f4-05e2-48f5-9de7-9b90c52c8693",
   "metadata": {},
   "source": [
    "# OUTPUT \n",
    "\n",
    "['Green', 'White', 'Black']"
   ]
  },
  {
   "cell_type": "markdown",
   "id": "c5e6e74d-8a7f-447b-bbd0-b6ff0e273193",
   "metadata": {},
   "source": [
    "Objective 06: Exercise"
   ]
  },
  {
   "cell_type": "markdown",
   "id": "dccb3aba-2005-4b89-b11b-a61ad225e6df",
   "metadata": {},
   "source": [
    "Create a Python Program that perform following tasks for any problem of your choice: \n",
    "\n",
    "Task 1: Introduction \n",
    "\n",
    "Task 2: Terminal \n",
    "\n",
    "Task 3: Python Interpreter \n",
    "\n",
    "Task 4: Variables \n",
    "\n",
    "Task 5: Text Editor \n",
    "\n",
    "Task 6: Functions \n",
    "\n",
    "Task 7: Lists and Tuples \n",
    "\n",
    "Task 8: Conditional Statements \n",
    "\n",
    "Task 9: The For Loop \n",
    "\n",
    "Task 10: User Input and the While Loop "
   ]
  },
  {
   "cell_type": "markdown",
   "id": "4ff22198-3503-440f-bec0-961cb866d9b7",
   "metadata": {},
   "source": [
    "# DESCRIPTION: \n",
    "\n",
    "This program simulates a smart assistant that greets the user, lists daily tasks, checks if the user is an adult, counts down to work, \n",
    "and interacts with the user through a loop."
   ]
  },
  {
   "cell_type": "code",
   "execution_count": null,
   "id": "e192f240-a41c-4f12-ab53-a926a637408d",
   "metadata": {},
   "outputs": [],
   "source": [
    "# Python Program: Smart Assistant for Daily Tasks\n",
    "\n",
    "# Task 1: Introduction\n",
    "print(\"Welcome to Your Smart Assistant!\")\n",
    "print(\"This program helps you with daily tasks using Python.\")\n",
    "\n",
    "# Task 2: Terminal\n",
    "print(\"\\nTask 2: Using the Terminal\")\n",
    "print(\"You can run this program from the terminal using 'python filename.py'.\")\n",
    "\n",
    "# Task 3: Python Interpreter\n",
    "print(\"\\nTask 3: Python Interpreter\")\n",
    "print(\"You can interactively execute Python code in the interpreter.\")\n",
    "print(\"Try typing 'python' in the terminal to open the interpreter.\")\n",
    "\n",
    "# Task 4: Variables\n",
    "name = input(\"\\nEnter your name: \")\n",
    "age = int(input(\"Enter your age: \"))\n",
    "\n",
    "# Task 5: Text Editor\n",
    "print(\"\\nTask 5: Text Editor\")\n",
    "print(\"Use a text editor (like VS Code or Notepad++) to write Python code.\")\n",
    "\n",
    "# Task 6: Functions\n",
    "def greet_user(name):\n",
    "    return f\"Hello, {name}! How can I assist you today?\"\n",
    "\n",
    "# Task 7: Lists and Tuples\n",
    "tasks = [\"Check email\", \"Read news\", \"Exercise\", \"Study Python\"]\n",
    "print(\"\\nTask 7: Your Daily Tasks:\")\n",
    "for task in tasks:\n",
    "    print(f\"- {task}\")\n",
    "\n",
    "# Task 8: Conditional Statements\n",
    "if age >= 18:\n",
    "    print(\"\\nYou are an adult. Let's get productive!\")\n",
    "else:\n",
    "    print(\"\\nEnjoy your youth!\")\n",
    "\n",
    "# Task 9: The For Loop\n",
    "print(\"\\nTask 9: Countdown to Work:\")\n",
    "for i in range(5, 0, -1):\n",
    "    print(f\"{i} minutes left...\")\n",
    "\n",
    "# Task 10: User Input and the While Loop\n",
    "while True:\n",
    "    user_choice = input(\"\\nWhat would you like to do? (type 'quit' to exit): \")\n",
    "    if user_choice.lower() == \"quit\":\n",
    "        break\n",
    "    else:\n",
    "        print(greet_user(name))\n",
    "\n",
    "print(\"\\nThank you for using your Smart Assistant. Have a great day!\")\n"
   ]
  },
  {
   "cell_type": "raw",
   "id": "72c5330c-13ba-4fa3-b18e-3639fd7f1b97",
   "metadata": {},
   "source": [
    "# OUTPUT\n",
    "\n",
    "Welcome to Your Smart Assistant!\n",
    "This program helps you with daily tasks using Python.\n",
    "\n",
    "Task 2: Using the Terminal\n",
    "You can run this program from the terminal using 'python filename.py'.\n",
    "\n",
    "Task 3: Python Interpreter\n",
    "You can interactively execute Python code in the interpreter.\n",
    "Try typing 'python' in the terminal to open the interpreter.\n",
    "\n",
    "Enter your name: Ahmed Raza\n",
    "Enter your age: 21\n",
    "\n",
    "Task 5: Text Editor\n",
    "Use a text editor (like VS Code or Notepad++) to write Python code.\n",
    "\n",
    "Task 7: Your Daily Tasks:\n",
    "- Check email\n",
    "- Read news\n",
    "- Exercise\n",
    "- Study Python\n",
    "\n",
    "You are an adult. Lets get productive!\n",
    "\n",
    "Task 9: Countdown to Work:\n",
    "5 minutes left...\n",
    "4 minutes left...\n",
    "3 minutes left...\n",
    "2 minutes left...\n",
    "1 minutes left...\n",
    "\n",
    "What would you like to do? (type 'quit' to exit): quit\n",
    "\n",
    "Thank you for using your Smart Assistant. Have a great day!"
   ]
  },
  {
   "cell_type": "markdown",
   "id": "2b16293b-c69d-400f-892e-67bd74237a90",
   "metadata": {},
   "source": [
    "                                              LAB 02 : To Get familiar with concepts in Python                                                          "
   ]
  },
  {
   "cell_type": "markdown",
   "id": "8eb54f03-7180-4551-b259-6e13bd1777c1",
   "metadata": {},
   "source": [
    "LAB EXERCISES"
   ]
  },
  {
   "cell_type": "markdown",
   "id": "b1a7fc99-fce2-4da6-a0c9-9f2923f007db",
   "metadata": {},
   "source": [
    "Exercise 1:"
   ]
  },
  {
   "cell_type": "markdown",
   "id": "9b6fda8a-dfdc-4fa5-ba1f-160e14292b7c",
   "metadata": {},
   "source": [
    "(I)Cabinets and Boxes are objects that are mostly in cubic shape. Make a program that takes\n",
    "inputs like height, width and depth from user and then calculate volume of the cube:\n",
    "volume = height ∗ width ∗ depth\n",
    "After calculating volume of cube, compare it with following ranges and print the relevant label:"
   ]
  },
  {
   "cell_type": "code",
   "execution_count": null,
   "id": "eb8adf68-19aa-4785-8781-0cb30e919978",
   "metadata": {},
   "outputs": [],
   "source": [
    "height = int(input(\"Enter height in cm: \"))\n",
    "width = int(input(\"Enter width in cm: \"))\n",
    "depth = int(input(\"Enter depth in cm: \"))\n",
    "\n",
    "volume = height*width*depth\n",
    "\n",
    "if 1<=volume<=10:\n",
    "    print(f'The label for {volume} is \"Extra Small\"!')\n",
    "elif 11<=volume<=25:\n",
    "    print(f'The label for {volume} is \"Small\"!')\n",
    "elif 26<=volume<=75:\n",
    "    print(f'The label for {volume} is \"Medium\"!')\n",
    "elif 76<=volume<=100:\n",
    "    print(f'The label for {volume} is \"Large\"!')\n",
    "elif 101<=volume<=250:\n",
    "    print(f'The label for {volume} is \"Extra Large\"!')\n",
    "elif volume>=251:\n",
    "    print(f'The label for {volume} is \"Extra-Extra Large\"!')\n",
    "else:\n",
    "    print(f\"Invalid Input! No Label exist for {volume}.\")\n"
   ]
  },
  {
   "cell_type": "raw",
   "id": "5b4f6b13-65fb-4eeb-a862-2b7e1f0c194c",
   "metadata": {},
   "source": [
    "# OUTPUT\n",
    "\n",
    "Enter height in cm: 10\n",
    "Enter width in cm: 10\n",
    "Enter depth in cm: 10\n",
    "The label for 1000 is \"Extra-Extra Large\"!"
   ]
  },
  {
   "cell_type": "markdown",
   "id": "fa67b809-c455-476c-b82e-2473e5c7e681",
   "metadata": {},
   "source": [
    "(II)In a company ,worker efficiency is determined on the basis of the time required for a worker\n",
    "to complete a particular job.If the time taken by the worker is between 2-3 hours then the worker\n",
    "is said to be highly efficient. If the time required by the worker is between 3-4hours,then the worker\n",
    "is ordered to improve speed. If the time taken is between 4-5 hours ,the worker is given training to\n",
    "improve his speed ,and if the time taken by the worker is more than 5 hours ,then the worker haas\n",
    "to leave the company, If the time taken by the worker is input through the keyboard,find the\n",
    "efficiency of the worker."
   ]
  },
  {
   "cell_type": "code",
   "execution_count": null,
   "id": "9d4dcecb-9470-4d19-9d36-a32f4ad74e86",
   "metadata": {},
   "outputs": [],
   "source": [
    "work_hr = float(input(\"Enter the time (in hours) you require to optomize algorithm and document (min 2 hours): \"))\n",
    "\n",
    "if 2<=work_hr<=3:\n",
    "    print(\"Fantastic! You are highly efficient! Welcome on board!\")\n",
    "elif 3<work_hr<=4:\n",
    "    print(\"You need improvement! Kindly improve and get back to us. Thank You!\")\n",
    "elif 4<work_hr<=5:\n",
    "    print(\"You need a lot of improvement and for that from now onwards you will be part of our training program.\")\n",
    "elif work_hr>=5:\n",
    "    print(\"Sorry! You took too much time. You may leave the company.\")\n",
    "else:\n",
    "    print(\"Invalid Input!\")"
   ]
  },
  {
   "cell_type": "raw",
   "id": "4d1ef28e-dd88-4ac9-8c16-16ed55dced11",
   "metadata": {},
   "source": [
    "# OUTPUT\n",
    "\n",
    "Enter the time (in hours) you require to optomize algorithm and document (min 2 hours): 4\n",
    "You need improvement! Kindly improve and get back to us. Thank You!"
   ]
  },
  {
   "cell_type": "markdown",
   "id": "db18845a-827b-48d4-b9b0-6b07ce57c1aa",
   "metadata": {},
   "source": [
    "(iii)The program must prompt the user for a username and password. The program should compare\n",
    "the password given by the user to a known password. If the password matches, the program should\n",
    "display “Welcome!” If it doesn’t match, the program should display “I don’t know you.\n",
    "Note: the password should not be case sensitive and it’s value is abc$123 or ABC$123"
   ]
  },
  {
   "cell_type": "code",
   "execution_count": null,
   "id": "1b6c5156-dacc-4608-8712-ba32e41d21f2",
   "metadata": {},
   "outputs": [],
   "source": [
    "username = input(\"Username: \")\n",
    "entered_password = input(\"What is the password? \")\n",
    "\n",
    "#if entered_password == 'abc$123' or entered_password == 'ABC$123':\n",
    "if entered_password.lower() == 'abc$123': \n",
    "   print(f\"Welcome! {username}\")\n",
    "else: \n",
    "   print(\"I don't know you!\")\n"
   ]
  },
  {
   "cell_type": "raw",
   "id": "87d3afe0-2199-489d-a7d6-9644331485a3",
   "metadata": {},
   "source": [
    "# OUTPUT \n",
    "\n",
    "Username: Ahmed Raza\n",
    "What is the password? ABC$123\n",
    "Welcome! Ahmed Raza"
   ]
  },
  {
   "cell_type": "markdown",
   "id": "904c8643-9951-48c6-a5db-1187e7e46ee1",
   "metadata": {},
   "source": [
    "Exercise 2:"
   ]
  },
  {
   "cell_type": "markdown",
   "id": "b7171f66-c288-4d3f-86c3-4ec6c9ae1f6c",
   "metadata": {},
   "source": [
    "(i)What Would Python Print?\n",
    ">>> n = 3\n",
    ">>> while n >= 0:\n",
    "... n -= 1\n",
    "... print(n)\n",
    "...\n",
    "______\n",
    "The code block will continue to run until n becomes < 0, since 0 is not greater than or equal to 0."
   ]
  },
  {
   "cell_type": "raw",
   "id": "656810f4-7f6f-4a87-9d25-ae3388f405e0",
   "metadata": {},
   "source": [
    "# OUTPUT\n",
    "\n",
    "2\n",
    "1\n",
    "0\n",
    "-1"
   ]
  },
  {
   "cell_type": "markdown",
   "id": "e6d25a0a-af23-4ae0-b3ae-0296d7390f92",
   "metadata": {},
   "source": [
    "The code block will continue to run until n becomes < 0, since 0 is not greater than or equal to 0.\n",
    "(ii): What Would Python Print?\n",
    ">>> # typing Ctrl-C will stop infinite loops\n",
    ">>> n = 4\n",
    ">>> while n > 0:\n",
    "... n += 1\n",
    "... print(n)\n",
    "...\n",
    "______\n",
    "Make sure your while loop condition eventually becomes false, or it will never stop!"
   ]
  },
  {
   "cell_type": "raw",
   "id": "6fa1ac54-8097-4ce7-90de-78cce3da56d4",
   "metadata": {},
   "source": [
    "# OUTPUT\n",
    "\n",
    "5\n",
    "6\n",
    "7\n",
    "8\n",
    ".\n",
    ".\n",
    "."
   ]
  },
  {
   "cell_type": "markdown",
   "id": "98f0a76d-bdcb-4619-ba1d-c728a08dcbae",
   "metadata": {},
   "source": [
    "(ii)Try the scenrio below:\n",
    "Make a program that lists the countries in the set\n",
    "clist =\n",
    "['Canada','USA','Mexico','Australia']\n",
    "1. Create a loop that counts from 0 to 100\n",
    "2. Make a multiplication table using a loop\n",
    "3. Output the numbers 1 to 10 backwards using a loop\n",
    "4. Create a loop that counts all even numbers to 10\n",
    "5. Create a loop that sums the numbers from 100 to 200"
   ]
  },
  {
   "cell_type": "code",
   "execution_count": null,
   "id": "afb2b78f-6bdb-43cb-a373-f6f00e33b9a9",
   "metadata": {},
   "outputs": [],
   "source": [
    "clist = ['Canada', 'USA', 'Mexico', 'Australia']\n",
    "\n",
    "# Print each country in the set\n",
    "for country in clist:\n",
    "    print(country)\n"
   ]
  },
  {
   "cell_type": "raw",
   "id": "a4ea9ad1-11bd-4dc6-97bb-a0dca277dc91",
   "metadata": {},
   "source": [
    "# OUTPUT \n",
    "\n",
    "Canada\n",
    "USA\n",
    "Mexico\n",
    "Australia"
   ]
  },
  {
   "cell_type": "code",
   "execution_count": null,
   "id": "9e564f23-6b75-4082-8bd9-06e67748559e",
   "metadata": {},
   "outputs": [],
   "source": [
    "# Loop from 0 to 100\n",
    "\n",
    "for i in range(101):\n",
    "    print(i)\n",
    "\n",
    "# Multiplication Table\n",
    "    \n",
    "number = 5\n",
    "\n",
    "for a in range(1, 11):\n",
    "    result = number * a\n",
    "    print(f\"{number} x {a} = {result}\")\n",
    "\n",
    "# Multiple Multiplication Table\n",
    "    \n",
    "for j in range(1, 11):\n",
    "    for k in range(1, 11):\n",
    "        print(f\"{j} x {k} = {j*k}\")\n",
    "\n",
    "# Output Numbers 1 to 10 Backwards\n",
    "        \n",
    "for l in range(10, 0, -1):\n",
    "    print(l)\n",
    "\n",
    "# Count All Even Numbers up to 10\n",
    "\n",
    "for m in range(0, 11, 2):\n",
    "    print(m)\n",
    "\n",
    "#Sum Numbers from 100 to 200\n",
    "\n",
    "sum_result = 0\n",
    "for n in range(100, 201):\n",
    "    sum_result += n\n",
    "\n",
    "print(f\"The sum of numbers from 100 to 200 is: {sum_result}\")\n"
   ]
  },
  {
   "cell_type": "raw",
   "id": "f8ae11f1-5d77-4dc2-b17f-5e8c983a5597",
   "metadata": {},
   "source": [
    "# OUTPUT\n",
    "\n",
    "0\n",
    "1\n",
    "2\n",
    "3\n",
    "4\n",
    "5\n",
    "6\n",
    "7\n",
    "8\n",
    "9\n",
    "10\n",
    "11\n",
    "12\n",
    "13\n",
    "14\n",
    "15\n",
    "16\n",
    "17\n",
    "18\n",
    "19\n",
    "20\n",
    "21\n",
    "22\n",
    "23\n",
    "24\n",
    "25\n",
    "26\n",
    "27\n",
    "28\n",
    "29\n",
    "30\n",
    "31\n",
    "32\n",
    "33\n",
    "34\n",
    "35\n",
    "36\n",
    "37\n",
    "38\n",
    "39\n",
    "40\n",
    "41\n",
    "42\n",
    "43\n",
    "44\n",
    "45\n",
    "46\n",
    "47\n",
    "48\n",
    "49\n",
    "50\n",
    "51\n",
    "52\n",
    "53\n",
    "54\n",
    "55\n",
    "56\n",
    "57\n",
    "58\n",
    "59\n",
    "60\n",
    "61\n",
    "62\n",
    "63\n",
    "64\n",
    "65\n",
    "66\n",
    "67\n",
    "68\n",
    "69\n",
    "70\n",
    "71\n",
    "72\n",
    "73\n",
    "74\n",
    "75\n",
    "76\n",
    "77\n",
    "78\n",
    "79\n",
    "80\n",
    "81\n",
    "82\n",
    "83\n",
    "84\n",
    "85\n",
    "86\n",
    "87\n",
    "88\n",
    "89\n",
    "90\n",
    "91\n",
    "92\n",
    "93\n",
    "94\n",
    "95\n",
    "96\n",
    "97\n",
    "98\n",
    "99\n",
    "100\n",
    "5 x 1 = 5\n",
    "5 x 2 = 10\n",
    "5 x 3 = 15\n",
    "5 x 4 = 20\n",
    "5 x 5 = 25\n",
    "5 x 6 = 30\n",
    "5 x 7 = 35\n",
    "5 x 8 = 40\n",
    "5 x 9 = 45\n",
    "5 x 10 = 50\n",
    "1 x 1 = 1\n",
    "1 x 2 = 2\n",
    "1 x 3 = 3\n",
    "1 x 4 = 4\n",
    "1 x 5 = 5\n",
    "1 x 6 = 6\n",
    "1 x 7 = 7\n",
    "1 x 8 = 8\n",
    "1 x 9 = 9\n",
    "1 x 10 = 10\n",
    "2 x 1 = 2\n",
    "2 x 2 = 4\n",
    "2 x 3 = 6\n",
    "2 x 4 = 8\n",
    "2 x 5 = 10\n",
    "2 x 6 = 12\n",
    "2 x 7 = 14\n",
    "2 x 8 = 16\n",
    "2 x 9 = 18\n",
    "2 x 10 = 20\n",
    "3 x 1 = 3\n",
    "3 x 2 = 6\n",
    "3 x 3 = 9\n",
    "3 x 4 = 12\n",
    "3 x 5 = 15\n",
    "3 x 6 = 18\n",
    "3 x 7 = 21\n",
    "3 x 8 = 24\n",
    "3 x 9 = 27\n",
    "3 x 10 = 30\n",
    "4 x 1 = 4\n",
    "4 x 2 = 8\n",
    "4 x 3 = 12\n",
    "4 x 4 = 16\n",
    "4 x 5 = 20\n",
    "4 x 6 = 24\n",
    "4 x 7 = 28\n",
    "4 x 8 = 32\n",
    "4 x 9 = 36\n",
    "4 x 10 = 40\n",
    "5 x 1 = 5\n",
    "5 x 2 = 10\n",
    "5 x 3 = 15\n",
    "5 x 4 = 20\n",
    "5 x 5 = 25\n",
    "5 x 6 = 30\n",
    "5 x 7 = 35\n",
    "5 x 8 = 40\n",
    "5 x 9 = 45\n",
    "5 x 10 = 50\n",
    "6 x 1 = 6\n",
    "6 x 2 = 12\n",
    "6 x 3 = 18\n",
    "6 x 4 = 24\n",
    "6 x 5 = 30\n",
    "6 x 6 = 36\n",
    "6 x 7 = 42\n",
    "6 x 8 = 48\n",
    "6 x 9 = 54\n",
    "6 x 10 = 60\n",
    "7 x 1 = 7\n",
    "7 x 2 = 14\n",
    "7 x 3 = 21\n",
    "7 x 4 = 28\n",
    "7 x 5 = 35\n",
    "7 x 6 = 42\n",
    "7 x 7 = 49\n",
    "7 x 8 = 56\n",
    "7 x 9 = 63\n",
    "7 x 10 = 70\n",
    "8 x 1 = 8\n",
    "8 x 2 = 16\n",
    "8 x 3 = 24\n",
    "8 x 4 = 32\n",
    "8 x 5 = 40\n",
    "8 x 6 = 48\n",
    "8 x 7 = 56\n",
    "8 x 8 = 64\n",
    "8 x 9 = 72\n",
    "8 x 10 = 80\n",
    "9 x 1 = 9\n",
    "9 x 2 = 18\n",
    "9 x 3 = 27\n",
    "9 x 4 = 36\n",
    "9 x 5 = 45\n",
    "9 x 6 = 54\n",
    "9 x 7 = 63\n",
    "9 x 8 = 72\n",
    "9 x 9 = 81\n",
    "9 x 10 = 90\n",
    "10 x 1 = 10\n",
    "10 x 2 = 20\n",
    "10 x 3 = 30\n",
    "10 x 4 = 40\n",
    "10 x 5 = 50\n",
    "10 x 6 = 60\n",
    "10 x 7 = 70\n",
    "10 x 8 = 80\n",
    "10 x 9 = 90\n",
    "10 x 10 = 100\n",
    "10\n",
    "9\n",
    "8\n",
    "7\n",
    "6\n",
    "5\n",
    "4\n",
    "3\n",
    "2\n",
    "1\n",
    "0\n",
    "2\n",
    "4\n",
    "6\n",
    "8\n",
    "10\n",
    "The sum of numbers from 100 to 200 is: 15150"
   ]
  },
  {
   "cell_type": "markdown",
   "id": "38f505c6-84f9-4d0a-b38c-7134935889d2",
   "metadata": {},
   "source": [
    "(iii) Try the exercise below:\n",
    "1. Make a program that lists the countries in the set below using a while loop.\n",
    "clist =\n",
    "[\"Canada\",\"USA\",\"Mexico\"]\n",
    "2. What’s the difference between a while loop and a for loop?\n",
    "3. Can you sum numbers in a while loop?\n",
    "4. Can a for loop be used inside a while loop?"
   ]
  },
  {
   "cell_type": "code",
   "execution_count": null,
   "id": "347ac6fa-a684-4122-b5f0-df40336e0c72",
   "metadata": {},
   "outputs": [],
   "source": [
    "# 1.\n",
    "\n",
    "clist = [\"Canada\", \"USA\", \"Mexico\"]\n",
    "\n",
    "# Initialize an index variable\n",
    "index = 0\n",
    "\n",
    "# Use a while loop to iterate over the list\n",
    "while index < len(clist):\n",
    "    # Print the current country\n",
    "    print(clist[index])\n",
    "    \n",
    "    # Increment the index to move to the next country\n",
    "    index += 1"
   ]
  },
  {
   "cell_type": "raw",
   "id": "9cf65d38-3299-4ae5-add0-afe6833196be",
   "metadata": {},
   "source": [
    "# OUTPUT\n",
    "\n",
    "Canada\n",
    "USA\n",
    "Mexico"
   ]
  },
  {
   "cell_type": "markdown",
   "id": "e9bf1351-ae28-47e9-afbb-8fea542be74a",
   "metadata": {},
   "source": [
    "# 2.\n",
    "\n",
    "For Loop:\n",
    "1. A for loop is used to iterate over a sequence of items, such as a Python tuple, list, string, or range.\n",
    "2. It executes a block of statements for each item in the sequence.\n",
    "3. The syntax for a for loop is as follows:\n",
    "     for var in iterable:\n",
    "       # statements\n"
   ]
  },
  {
   "cell_type": "code",
   "execution_count": null,
   "id": "978638b7-db31-4db1-a284-1f697119f279",
   "metadata": {},
   "outputs": [],
   "source": [
    "# EXAMPLE\n",
    "\n",
    "items = ['pen', 'notebook', 'pencil', 'lunch box']\n",
    "for item in items:\n",
    "    print(item)\n"
   ]
  },
  {
   "cell_type": "raw",
   "id": "559a29d2-0f2c-4722-ab81-96e4ebcd0ee3",
   "metadata": {},
   "source": [
    "# OUTPUT\n",
    "\n",
    "pen\n",
    "notebook\n",
    "pencil\n",
    "lunch box\n"
   ]
  },
  {
   "cell_type": "markdown",
   "id": "8a299607-ef9c-4111-9467-b6d032c08692",
   "metadata": {},
   "source": [
    "While Loop:\n",
    "1. A while loop repeatedly executes a block of statements while a condition remains true.\n",
    "2. It continues to run as long as the condition holds.\n",
    "3. The syntax for a while loop is as follows:\n",
    "    while condition:\n",
    "    # Set of statements\n"
   ]
  },
  {
   "cell_type": "code",
   "execution_count": null,
   "id": "87a97797-4df2-41fb-87f6-19b64be30002",
   "metadata": {},
   "outputs": [],
   "source": [
    "# EXAMPLE\n",
    "\n",
    "items = ['pen', 'notebook', 'pencil', 'lunch box']\n",
    "index = 0\n",
    "items_len = len(items)\n",
    "while index < items_len:\n",
    "    print(items[index])\n",
    "    index += 1\n"
   ]
  },
  {
   "cell_type": "raw",
   "id": "a7151ba2-42c5-47fa-9009-05534c38ea97",
   "metadata": {},
   "source": [
    "# OUTPUT\n",
    "\n",
    "pen\n",
    "notebook\n",
    "pencil\n",
    "lunch box\n"
   ]
  },
  {
   "cell_type": "markdown",
   "id": "58bdb304-9c75-418e-b822-9ed4456becab",
   "metadata": {},
   "source": [
    "Comparison:\n",
    "1. For loops are ideal when you know the number of iterations in advance (e.g., iterating over a fixed-size list).\n",
    "2. While loops are useful when you need to repeat a task based on a condition (e.g., reading input until a specific value is encountered).\n",
    "3. Be cautious with both loops to avoid infinite loops (when no condition is given)."
   ]
  },
  {
   "cell_type": "markdown",
   "id": "b5089251-bbbb-48fe-bdc4-63bfa0131600",
   "metadata": {},
   "source": [
    "YES! We can use a while loop in Python to calculate the sum of numbers. Consider the following example."
   ]
  },
  {
   "cell_type": "code",
   "execution_count": null,
   "id": "5f68c490-928a-43a7-aaad-f889cf494bc4",
   "metadata": {},
   "outputs": [],
   "source": [
    "sum = 0\n",
    "number = 1\n",
    "while number > 0:\n",
    "    number = int(input('Enter a positive number: '))\n",
    "    if number > 0:\n",
    "        sum += number\n",
    "print(\"The sum of the numbers is\", sum)\n"
   ]
  },
  {
   "cell_type": "raw",
   "id": "6db7f14a-1e57-4db6-b618-aea39b6dfe8b",
   "metadata": {},
   "source": [
    "# OUTPUT\n",
    "\n",
    "Enter a positive number: 2\n",
    "Enter a positive number: 13\n",
    "Enter a positive number: 45 \n",
    "Enter a positive number: 2\n",
    "Enter a positive number: 1\n",
    "Enter a positive number: 545\n",
    "Enter a positive number: 23\n",
    "Enter a positive number: 232\n",
    "Enter a positive number: 1213\n",
    "Enter a positive number: 5432\n",
    "Enter a positive number: 435\n",
    "Enter a positive number: 4656\n",
    "Enter a positive number: 24354\n",
    "Enter a positive number: 233565\n",
    "Enter a positive number: 76753\n",
    "Enter a positive number: -1\n",
    "The sum of the numbers is 347271"
   ]
  },
  {
   "cell_type": "markdown",
   "id": "7c14093e-5522-4257-9982-5c17d72570c4",
   "metadata": {},
   "source": [
    "YES! We can absolutely use a for loop inside a while loop in Python.\n",
    "1. When you nest a for loop inside a while loop, the for loop executes its iterations within the scope of the while loop.\n",
    "2. The while loop continues to run as long as its condition remains true, and the for loop executes its iterations independently."
   ]
  },
  {
   "cell_type": "code",
   "execution_count": null,
   "id": "b42390dc-c402-4a36-8905-12223689baaa",
   "metadata": {},
   "outputs": [],
   "source": [
    "# EXAMPLE: Printing the multiplication table for 5 using a while loop and a for loop\n",
    "\n",
    "number = 5\n",
    "factor = 1\n",
    "\n",
    "while factor <= 10:\n",
    "    result = number * factor\n",
    "    print(f\"{number} × {factor} = {result}\")\n",
    "    factor += 1\n",
    "\n"
   ]
  },
  {
   "cell_type": "raw",
   "id": "9b13888d-4aad-47df-bfec-3cafe0a48485",
   "metadata": {},
   "source": [
    "# OUTPUT\n",
    "\n",
    "5 × 1 = 5\n",
    "5 × 2 = 10\n",
    "5 × 3 = 15\n",
    "5 × 4 = 20\n",
    "5 × 5 = 25\n",
    "5 × 6 = 30\n",
    "5 × 7 = 35\n",
    "5 × 8 = 40\n",
    "5 × 9 = 45\n",
    "5 × 10 = 50\n"
   ]
  },
  {
   "cell_type": "markdown",
   "id": "c2b69674-66ee-457d-8bdb-be1fa94409cc",
   "metadata": {},
   "source": [
    "                                                                    Task 01:                                                                            "
   ]
  },
  {
   "cell_type": "markdown",
   "id": "7720911f-9f8c-4374-9d76-e47999ce805b",
   "metadata": {},
   "source": [
    "Write a program that converts a positive integer into the Roman number system. The Roman number\n",
    "system has digits I (1), V (5), X (10), L (50), C(100), D(500) and M(1000). Numbers up to 3999 are\n",
    "formed according to the following rules:\n",
    "a) As in the decimal system, the thousands, hundreds, tens and ones are expressed separately.\n",
    "b) The numbers 1 to 9 are expressed as: 1 I 6 VI 2 II 7 VII 3 III 8 VIII4 IV 9 IX 5 V (An I preceding\n",
    "a V or X is subtracted from the value, and there cannot be more than threeI’s in a row.)\n",
    "c) Tens and hundreds are done the same way, except that the letters X, L, C, and C, D, Mare used\n",
    "instead of I, V, X respectively.\n",
    "Example: Your program should take an input, such as 1978, and convert it to Roman numerals,\n",
    "MCMLXXVIII."
   ]
  },
  {
   "cell_type": "code",
   "execution_count": null,
   "id": "de059e73-a9f9-4236-a6ae-d874e6ddecc9",
   "metadata": {},
   "outputs": [],
   "source": [
    "def int_to_roman(number):\n",
    "\n",
    "    if not 0 < number < 4000:\n",
    "        return \"Number out of range (1-3999)\"\n",
    "\n",
    "    roman_numerals = {\n",
    "        1000: 'M', 900: 'CM', 500: 'D', 400: 'CD',\n",
    "        100: 'C', 90: 'XC', 50: 'L', 40: 'XL',\n",
    "        10: 'X', 9: 'IX', 5: 'V', 4: 'IV', 1: 'I'\n",
    "    }\n",
    "\n",
    "    roman_numeral = \"\"\n",
    "\n",
    "    for value, numeral in roman_numerals.items():\n",
    "        # Calculate how many times the current value can fit into the number\n",
    "        count = number // value\n",
    "\n",
    "        # Add the Roman numeral repeated 'count' times to the result string\n",
    "        roman_numeral += numeral * count\n",
    "\n",
    "        # Subtract the total value contributed by the current Roman numeral from the original number to continue with the remaining part\n",
    "        number -= value * count\n",
    "\n",
    "    return roman_numeral\n",
    "\n",
    "number = int(input('Enter a positive integer (1-3999): '))\n",
    "\n",
    "result = int_to_roman(number)\n",
    "print(f\"The Roman numeral for {number} is: {result}\")\n"
   ]
  },
  {
   "cell_type": "raw",
   "id": "5f22a603-99c8-421a-80b4-fa7016a190fb",
   "metadata": {},
   "source": [
    "# OUTPUT\n",
    "\n",
    "Enter a positive integer (1-3999): 2024\n",
    "The Roman numeral for 2024 is: MMXXIV"
   ]
  },
  {
   "cell_type": "markdown",
   "id": "89b224ee-2dbd-4a8c-8247-99eab6764ce3",
   "metadata": {},
   "source": [
    "                                                                 Task 02:                                                                               "
   ]
  },
  {
   "cell_type": "markdown",
   "id": "339f5d6b-9402-44f7-9fae-ba5337aa2c18",
   "metadata": {},
   "source": [
    "Write a program that calculates the user’s body mass index (BMI) and classify it as underweight,\n",
    "normal, overweight, or obese, based on the table from the United States Centers for Disease Control."
   ]
  },
  {
   "cell_type": "code",
   "execution_count": null,
   "id": "de0f794f-3596-48b0-8471-ce9d27d172df",
   "metadata": {},
   "outputs": [],
   "source": [
    "def calculate_bmi(weight_kg, height_m):\n",
    "    # Formula: BMI = weight (kg) / (height (m) * height (m))\n",
    "    return weight_kg / (height_m ** 2)\n",
    "\n",
    "def classify_bmi(bmi):\n",
    "\n",
    "    if bmi < 18.5:\n",
    "        return \"Underweight\"\n",
    "    elif 18.5 <= bmi < 24.9:\n",
    "        return \"Normal weight\"\n",
    "    elif 25 <= bmi < 29.9:\n",
    "        return \"Overweight\"\n",
    "    else:\n",
    "        return \"Obese\"\n",
    "    \n",
    "weight = float(input(\"Enter your weight in kilograms: \"))\n",
    "height = float(input(\"Enter your height in meters: \"))\n",
    "\n",
    "bmi = calculate_bmi(weight, height)\n",
    "\n",
    "classification = classify_bmi(bmi)\n",
    "\n",
    "print(f\"Your BMI is: {bmi:.2f}\")\n",
    "\n",
    "print(f\"Classification: {classification}\")\n"
   ]
  },
  {
   "cell_type": "raw",
   "id": "b7e6745b-7ad5-4fa5-98af-9aa4927ad6c3",
   "metadata": {},
   "source": [
    "# OUTPUT\n",
    "\n",
    "Enter your weight in kilograms: 60\n",
    "Enter your height in meters: 1.7\n",
    "Your BMI is: 20.76\n",
    "Classification: Normal weight"
   ]
  },
  {
   "cell_type": "markdown",
   "id": "274b3e67-dcab-45f2-88e2-2b0eb0a29bb1",
   "metadata": {},
   "source": [
    "                                                               Task 03:                                                                                 "
   ]
  },
  {
   "cell_type": "markdown",
   "id": "9567ea2c-8b82-4088-ae7f-3dc9cdf1dec9",
   "metadata": {},
   "source": [
    "Write a program to compute quotient and remainder of a number without using division ('/') operator\n",
    "and modulo ('%') operator. Also mention procedure for calculating"
   ]
  },
  {
   "cell_type": "markdown",
   "id": "80a406a9-64f5-48e9-96ed-08ca2fcca4cf",
   "metadata": {},
   "source": [
    "METHOD: Repeated subtraction."
   ]
  },
  {
   "cell_type": "code",
   "execution_count": null,
   "id": "ebd8caae-e464-4dc9-b2ef-a6235b4ed31d",
   "metadata": {},
   "outputs": [],
   "source": [
    "def get_quotient_remainder(dividend, divisor):\n",
    "    if divisor == 0:\n",
    "        print(\"Divisor cannot be zero\")\n",
    "\n",
    "    quotient = 0\n",
    "    remainder = dividend\n",
    "\n",
    "    while remainder >= divisor:\n",
    "        remainder -= divisor\n",
    "        quotient += 1\n",
    "\n",
    "    return quotient, remainder\n",
    "\n",
    "dividend = int(input('Enter dividend: '))\n",
    "divisor = int(input('Enter divisor: '))\n",
    "quotient, remainder = get_quotient_remainder(dividend, divisor)\n",
    "\n",
    "print(f\"Quotient: {quotient}\")\n",
    "print(f\"Remainder: {remainder}\")"
   ]
  },
  {
   "cell_type": "raw",
   "id": "685b5f85-f0b2-4283-82b9-1ed41b7f5ae7",
   "metadata": {},
   "source": [
    "# OUTPUT\n",
    "\n",
    "Enter dividend: 100\n",
    "Enter divisor: 7\n",
    "Quotient: 14\n",
    "Remainder: 2"
   ]
  }
 ],
 "metadata": {
  "kernelspec": {
   "display_name": "Python 3 (ipykernel)",
   "language": "python",
   "name": "python3"
  },
  "language_info": {
   "codemirror_mode": {
    "name": "ipython",
    "version": 3
   },
   "file_extension": ".py",
   "mimetype": "text/x-python",
   "name": "python",
   "nbconvert_exporter": "python",
   "pygments_lexer": "ipython3",
   "version": "3.11.5"
  }
 },
 "nbformat": 4,
 "nbformat_minor": 5
}
